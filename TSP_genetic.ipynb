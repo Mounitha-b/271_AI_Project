{
  "nbformat": 4,
  "nbformat_minor": 0,
  "metadata": {
    "colab": {
      "name": "TSP_genetic.ipynb",
      "provenance": [],
      "collapsed_sections": []
    },
    "kernelspec": {
      "name": "python3",
      "display_name": "Python 3"
    },
    "widgets": {
      "application/vnd.jupyter.widget-state+json": {
        "72898f7a60fd486b928e980dcba19e71": {
          "model_module": "@jupyter-widgets/controls",
          "model_name": "HBoxModel",
          "state": {
            "_view_name": "HBoxView",
            "_dom_classes": [],
            "_model_name": "HBoxModel",
            "_view_module": "@jupyter-widgets/controls",
            "_model_module_version": "1.5.0",
            "_view_count": null,
            "_view_module_version": "1.5.0",
            "box_style": "",
            "layout": "IPY_MODEL_2456d434991240a3877550dbef40a008",
            "_model_module": "@jupyter-widgets/controls",
            "children": [
              "IPY_MODEL_4852fdcfef584cc581c35fe2ddb0d01e",
              "IPY_MODEL_1fd2a984fe14480791715223f90d49e9"
            ]
          }
        },
        "2456d434991240a3877550dbef40a008": {
          "model_module": "@jupyter-widgets/base",
          "model_name": "LayoutModel",
          "state": {
            "_view_name": "LayoutView",
            "grid_template_rows": null,
            "right": null,
            "justify_content": null,
            "_view_module": "@jupyter-widgets/base",
            "overflow": null,
            "_model_module_version": "1.2.0",
            "_view_count": null,
            "flex_flow": null,
            "width": null,
            "min_width": null,
            "border": null,
            "align_items": null,
            "bottom": null,
            "_model_module": "@jupyter-widgets/base",
            "top": null,
            "grid_column": null,
            "overflow_y": null,
            "overflow_x": null,
            "grid_auto_flow": null,
            "grid_area": null,
            "grid_template_columns": null,
            "flex": null,
            "_model_name": "LayoutModel",
            "justify_items": null,
            "grid_row": null,
            "max_height": null,
            "align_content": null,
            "visibility": null,
            "align_self": null,
            "height": null,
            "min_height": null,
            "padding": null,
            "grid_auto_rows": null,
            "grid_gap": null,
            "max_width": null,
            "order": null,
            "_view_module_version": "1.2.0",
            "grid_template_areas": null,
            "object_position": null,
            "object_fit": null,
            "grid_auto_columns": null,
            "margin": null,
            "display": null,
            "left": null
          }
        },
        "4852fdcfef584cc581c35fe2ddb0d01e": {
          "model_module": "@jupyter-widgets/controls",
          "model_name": "FloatProgressModel",
          "state": {
            "_view_name": "ProgressView",
            "style": "IPY_MODEL_6617142a8ee741d4b827010fd36000e0",
            "_dom_classes": [],
            "description": " 50%",
            "_model_name": "FloatProgressModel",
            "bar_style": "danger",
            "max": 1000,
            "_view_module": "@jupyter-widgets/controls",
            "_model_module_version": "1.5.0",
            "value": 501,
            "_view_count": null,
            "_view_module_version": "1.5.0",
            "orientation": "horizontal",
            "min": 0,
            "description_tooltip": null,
            "_model_module": "@jupyter-widgets/controls",
            "layout": "IPY_MODEL_2713113d297a4ae1be823144b0056524"
          }
        },
        "1fd2a984fe14480791715223f90d49e9": {
          "model_module": "@jupyter-widgets/controls",
          "model_name": "HTMLModel",
          "state": {
            "_view_name": "HTMLView",
            "style": "IPY_MODEL_a7d31ee732b14d1d97483604c255fd86",
            "_dom_classes": [],
            "description": "",
            "_model_name": "HTMLModel",
            "placeholder": "​",
            "_view_module": "@jupyter-widgets/controls",
            "_model_module_version": "1.5.0",
            "value": " 501/1000 [00:50&lt;00:40, 12.36it/s]",
            "_view_count": null,
            "_view_module_version": "1.5.0",
            "description_tooltip": null,
            "_model_module": "@jupyter-widgets/controls",
            "layout": "IPY_MODEL_a20af0c4e23b4415b82d428442f2728b"
          }
        },
        "6617142a8ee741d4b827010fd36000e0": {
          "model_module": "@jupyter-widgets/controls",
          "model_name": "ProgressStyleModel",
          "state": {
            "_view_name": "StyleView",
            "_model_name": "ProgressStyleModel",
            "description_width": "initial",
            "_view_module": "@jupyter-widgets/base",
            "_model_module_version": "1.5.0",
            "_view_count": null,
            "_view_module_version": "1.2.0",
            "bar_color": null,
            "_model_module": "@jupyter-widgets/controls"
          }
        },
        "2713113d297a4ae1be823144b0056524": {
          "model_module": "@jupyter-widgets/base",
          "model_name": "LayoutModel",
          "state": {
            "_view_name": "LayoutView",
            "grid_template_rows": null,
            "right": null,
            "justify_content": null,
            "_view_module": "@jupyter-widgets/base",
            "overflow": null,
            "_model_module_version": "1.2.0",
            "_view_count": null,
            "flex_flow": null,
            "width": null,
            "min_width": null,
            "border": null,
            "align_items": null,
            "bottom": null,
            "_model_module": "@jupyter-widgets/base",
            "top": null,
            "grid_column": null,
            "overflow_y": null,
            "overflow_x": null,
            "grid_auto_flow": null,
            "grid_area": null,
            "grid_template_columns": null,
            "flex": null,
            "_model_name": "LayoutModel",
            "justify_items": null,
            "grid_row": null,
            "max_height": null,
            "align_content": null,
            "visibility": null,
            "align_self": null,
            "height": null,
            "min_height": null,
            "padding": null,
            "grid_auto_rows": null,
            "grid_gap": null,
            "max_width": null,
            "order": null,
            "_view_module_version": "1.2.0",
            "grid_template_areas": null,
            "object_position": null,
            "object_fit": null,
            "grid_auto_columns": null,
            "margin": null,
            "display": null,
            "left": null
          }
        },
        "a7d31ee732b14d1d97483604c255fd86": {
          "model_module": "@jupyter-widgets/controls",
          "model_name": "DescriptionStyleModel",
          "state": {
            "_view_name": "StyleView",
            "_model_name": "DescriptionStyleModel",
            "description_width": "",
            "_view_module": "@jupyter-widgets/base",
            "_model_module_version": "1.5.0",
            "_view_count": null,
            "_view_module_version": "1.2.0",
            "_model_module": "@jupyter-widgets/controls"
          }
        },
        "a20af0c4e23b4415b82d428442f2728b": {
          "model_module": "@jupyter-widgets/base",
          "model_name": "LayoutModel",
          "state": {
            "_view_name": "LayoutView",
            "grid_template_rows": null,
            "right": null,
            "justify_content": null,
            "_view_module": "@jupyter-widgets/base",
            "overflow": null,
            "_model_module_version": "1.2.0",
            "_view_count": null,
            "flex_flow": null,
            "width": null,
            "min_width": null,
            "border": null,
            "align_items": null,
            "bottom": null,
            "_model_module": "@jupyter-widgets/base",
            "top": null,
            "grid_column": null,
            "overflow_y": null,
            "overflow_x": null,
            "grid_auto_flow": null,
            "grid_area": null,
            "grid_template_columns": null,
            "flex": null,
            "_model_name": "LayoutModel",
            "justify_items": null,
            "grid_row": null,
            "max_height": null,
            "align_content": null,
            "visibility": null,
            "align_self": null,
            "height": null,
            "min_height": null,
            "padding": null,
            "grid_auto_rows": null,
            "grid_gap": null,
            "max_width": null,
            "order": null,
            "_view_module_version": "1.2.0",
            "grid_template_areas": null,
            "object_position": null,
            "object_fit": null,
            "grid_auto_columns": null,
            "margin": null,
            "display": null,
            "left": null
          }
        }
      }
    }
  },
  "cells": [
    {
      "cell_type": "code",
      "metadata": {
        "colab": {
          "base_uri": "https://localhost:8080/"
        },
        "id": "ZvEgPg7jr2T4",
        "outputId": "9ad937fb-d951-4223-e2cf-1ff5df6bd18a"
      },
      "source": [
        "!pip install tsp_solver2"
      ],
      "execution_count": null,
      "outputs": [
        {
          "output_type": "stream",
          "text": [
            "Collecting tsp_solver2\n",
            "  Downloading https://files.pythonhosted.org/packages/b9/17/58515f3c3105ce61c8ea4a544a312502c77ceee7f32affc9e7937446d787/tsp_solver2-0.4.1-py3-none-any.whl\n",
            "Installing collected packages: tsp-solver2\n",
            "Successfully installed tsp-solver2-0.4.1\n"
          ],
          "name": "stdout"
        }
      ]
    },
    {
      "cell_type": "code",
      "metadata": {
        "id": "clJtB8mHMp_C"
      },
      "source": [
        "import numpy as np, random, operator, pandas as pd, matplotlib.pyplot as plt\n",
        "from tqdm.notebook import tqdm_notebook as tqdm\n",
        "import collections\n",
        "from tsp_solver.greedy import solve_tsp\n",
        "import os"
      ],
      "execution_count": null,
      "outputs": []
    },
    {
      "cell_type": "code",
      "metadata": {
        "id": "x-kXdgD_J5Qw"
      },
      "source": [
        "!mkdir Data"
      ],
      "execution_count": null,
      "outputs": []
    },
    {
      "cell_type": "code",
      "metadata": {
        "id": "ip8zstzsMubE",
        "colab": {
          "base_uri": "https://localhost:8080/"
        },
        "outputId": "cf39612f-b3ad-400f-e383-6e5111e8f069"
      },
      "source": [
        "!git clone https://github.com/baiqiushi/cs271p.git"
      ],
      "execution_count": null,
      "outputs": [
        {
          "output_type": "stream",
          "text": [
            "Cloning into 'cs271p'...\n",
            "remote: Enumerating objects: 233, done.\u001b[K\n",
            "remote: Total 233 (delta 0), reused 0 (delta 0), pack-reused 233\u001b[K\n",
            "Receiving objects: 100% (233/233), 195.01 MiB | 18.72 MiB/s, done.\n",
            "Resolving deltas: 100% (17/17), done.\n",
            "Checking out files: 100% (197/197), done.\n"
          ],
          "name": "stdout"
        }
      ]
    },
    {
      "cell_type": "code",
      "metadata": {
        "colab": {
          "base_uri": "https://localhost:8080/"
        },
        "id": "9ufZee2hXx7M",
        "outputId": "d90f668a-4d85-441f-ea52-f728b3eb534e"
      },
      "source": [
        "!python cs271p/genTSP.py -n 15 -k 100 -u 400 -v 100"
      ],
      "execution_count": null,
      "outputs": [
        {
          "output_type": "stream",
          "text": [
            "generating 1 problems with parameters: N=15, K=100, U=400, V=100...\n",
            "generation is done.\n"
          ],
          "name": "stdout"
        }
      ]
    },
    {
      "cell_type": "code",
      "metadata": {
        "id": "zQhnm8MwNMmO"
      },
      "source": [
        "temp = []\n",
        "with open(\"input.txt\", \"r\") as f:\n",
        "  temp = f.readlines()"
      ],
      "execution_count": null,
      "outputs": []
    },
    {
      "cell_type": "code",
      "metadata": {
        "id": "27qr5r0tMFR3"
      },
      "source": [
        ""
      ],
      "execution_count": null,
      "outputs": []
    },
    {
      "cell_type": "code",
      "metadata": {
        "id": "6Qk96rqTOWix"
      },
      "source": [
        "temp = [x[:-1].split() for x in temp[1:]]"
      ],
      "execution_count": null,
      "outputs": []
    },
    {
      "cell_type": "code",
      "metadata": {
        "id": "0gsV-742OWmJ"
      },
      "source": [
        "temp = [[float(y) for y in x] for x in temp]"
      ],
      "execution_count": null,
      "outputs": []
    },
    {
      "cell_type": "code",
      "metadata": {
        "id": "FtvcYnMNRPs1"
      },
      "source": [
        "class Fitness:\n",
        "    def __init__(self, route, matrix):\n",
        "        self.route = route\n",
        "        self.distance = 0\n",
        "        self.fitness= 0.0\n",
        "        self.matrix = matrix\n",
        "    \n",
        "    def routeDistance(self):\n",
        "        if self.distance ==0:\n",
        "            pathDistance = 0\n",
        "            for i in range(0, len(self.route)):\n",
        "                fromCity = self.route[i]\n",
        "                toCity = None\n",
        "                if i + 1 < len(self.route):\n",
        "                    toCity = self.route[i + 1]\n",
        "                else:\n",
        "                    toCity = self.route[0]\n",
        "                pathDistance += self.matrix[fromCity][toCity]\n",
        "            self.distance = pathDistance\n",
        "        return self.distance\n",
        "    \n",
        "    def routeFitness(self):\n",
        "        if self.fitness == 0:\n",
        "            self.fitness = 1 / float(self.routeDistance())\n",
        "        return self.fitness"
      ],
      "execution_count": null,
      "outputs": []
    },
    {
      "cell_type": "code",
      "metadata": {
        "id": "v1a_xbh_M1ID"
      },
      "source": [
        "def createRoute(num_cities):\n",
        "    route = random.sample(list(range(num_cities)), num_cities)\n",
        "    return route"
      ],
      "execution_count": null,
      "outputs": []
    },
    {
      "cell_type": "code",
      "metadata": {
        "id": "W0dYrCuGgz2I"
      },
      "source": [
        "def cmp_key(c):\n",
        "  lst = temp[c]\n",
        "  lst = lst[:c]+lst[c+1:]\n",
        "  return np.argmin(lst)\n",
        "\n",
        "def create_a_path_n(num_cities):\n",
        "    cities = list(range(num_cities))\n",
        "    city = random.sample(cities,1)[0]\n",
        "    path = [city]\n",
        "    remaining_cities = [rc for rc in cities if rc!=city]\n",
        "    #loop while the list of remaining cities are not empty\n",
        "    while remaining_cities:\n",
        "        #get the minimum distance\n",
        "        city = min(remaining_cities, key=cmp_key)\n",
        "        path.append(city)\n",
        "        remaining_cities.remove(city)\n",
        "    return path"
      ],
      "execution_count": null,
      "outputs": []
    },
    {
      "cell_type": "code",
      "metadata": {
        "id": "mAgQHsX3NARw"
      },
      "source": [
        "def initialPopulation(popSize, matrix):\n",
        "    population = []\n",
        "    num_cities = len(matrix)\n",
        "    for i in range(0, popSize-1):\n",
        "        population.append(create_a_path_n(num_cities))\n",
        "    \n",
        "    # path = solve_tsp(temp)\n",
        "    # population.append(path)\n",
        "    return population"
      ],
      "execution_count": null,
      "outputs": []
    },
    {
      "cell_type": "code",
      "metadata": {
        "id": "9G6qqYIzNhea"
      },
      "source": [
        "def rankRoutes(population):\n",
        "    fitnessResults = {}\n",
        "    for i in range(0,len(population)):\n",
        "        fitnessResults[i] = Fitness(population[i], matrix).routeFitness()\n",
        "    return sorted(fitnessResults.items(), key = operator.itemgetter(1), reverse = True)"
      ],
      "execution_count": null,
      "outputs": []
    },
    {
      "cell_type": "code",
      "metadata": {
        "id": "2xzuEcYVUPYl"
      },
      "source": [
        "def selection(popRanked, eliteSize):\n",
        "    selectionResults = []\n",
        "    df = pd.DataFrame(np.array(popRanked), columns=[\"Index\",\"Fitness\"])\n",
        "    df['cum_sum'] = df.Fitness.cumsum()\n",
        "    df['cum_perc'] = 100*df.cum_sum/df.Fitness.sum()\n",
        "    \n",
        "    for i in range(0, eliteSize):\n",
        "        selectionResults.append(popRanked[i][0])\n",
        "    for i in range(0, len(popRanked) - eliteSize):\n",
        "        pick = 100*random.random()\n",
        "        for i in range(0, len(popRanked)):\n",
        "            if pick <= df.iat[i,3]:\n",
        "                selectionResults.append(popRanked[i][0])\n",
        "                break\n",
        "    return selectionResults"
      ],
      "execution_count": null,
      "outputs": []
    },
    {
      "cell_type": "code",
      "metadata": {
        "id": "brfSLJSwUcNF"
      },
      "source": [
        "def matingPool(population, selectionResults):\n",
        "    matingpool = []\n",
        "    for i in range(0, len(selectionResults)):\n",
        "        index = selectionResults[i]\n",
        "        matingpool.append(population[index])\n",
        "    return matingpool"
      ],
      "execution_count": null,
      "outputs": []
    },
    {
      "cell_type": "code",
      "metadata": {
        "id": "uY8EVShdUey0"
      },
      "source": [
        "def breed(parent1, parent2):\n",
        "    child = []\n",
        "    childP1 = []\n",
        "    childP2 = []\n",
        "    \n",
        "    geneA = int(random.random() * len(parent1))\n",
        "    geneB = int(random.random() * len(parent1))\n",
        "    \n",
        "    startGene = min(geneA, geneB)\n",
        "    endGene = max(geneA, geneB)\n",
        "\n",
        "    for i in range(startGene, endGene):\n",
        "        childP1.append(parent1[i])\n",
        "        \n",
        "    childP2 = [item for item in parent2 if item not in childP1]\n",
        "\n",
        "    child = childP2[:startGene] + childP1 + childP2[startGene:]\n",
        "    return child"
      ],
      "execution_count": null,
      "outputs": []
    },
    {
      "cell_type": "code",
      "metadata": {
        "id": "mS7y3sydUiNc"
      },
      "source": [
        "def breedPopulation(matingpool, eliteSize):\n",
        "    children = []\n",
        "    length = len(matingpool) - eliteSize\n",
        "    pool = random.sample(matingpool, len(matingpool))\n",
        "\n",
        "    for i in range(0,eliteSize):\n",
        "        children.append(matingpool[i])\n",
        "    \n",
        "    for i in range(0, length):\n",
        "        child = breed(pool[i], pool[len(matingpool)-i-1])\n",
        "        children.append(child)\n",
        "    return children"
      ],
      "execution_count": null,
      "outputs": []
    },
    {
      "cell_type": "code",
      "metadata": {
        "id": "vMpvmPOtUkLj"
      },
      "source": [
        "def mutate(individual, mutationRate):\n",
        "    for swapped in range(len(individual)):\n",
        "        if(random.random() < mutationRate):\n",
        "            swapWith = int(random.random() * len(individual))\n",
        "            \n",
        "            city1 = individual[swapped]\n",
        "            city2 = individual[swapWith]\n",
        "            \n",
        "            individual[swapped] = city2\n",
        "            individual[swapWith] = city1\n",
        "    return individual"
      ],
      "execution_count": null,
      "outputs": []
    },
    {
      "cell_type": "code",
      "metadata": {
        "id": "x1HYQM8WUqAz"
      },
      "source": [
        "def mutatePopulation(population, mutationRate):\n",
        "    mutatedPop = []\n",
        "    \n",
        "    for ind in range(0, len(population)):\n",
        "        mutatedInd = mutate(population[ind], mutationRate)\n",
        "        mutatedPop.append(mutatedInd)\n",
        "    return mutatedPop"
      ],
      "execution_count": null,
      "outputs": []
    },
    {
      "cell_type": "code",
      "metadata": {
        "id": "UnuRQkfCUsAE"
      },
      "source": [
        "def nextGeneration(currentGen, eliteSize, mutationRate, greedy = False):\n",
        "    popRanked = rankRoutes(currentGen)\n",
        "    selectionResults = selection(popRanked, eliteSize)\n",
        "    matingpool = matingPool(currentGen, selectionResults)\n",
        "    children = breedPopulation(matingpool, eliteSize)\n",
        "    nextGeneration = mutatePopulation(children, mutationRate)\n",
        "    if not greedy:\n",
        "      return nextGeneration\n",
        "\n",
        "    path = solve_tsp(temp)\n",
        "    nextGeneration.pop()\n",
        "    nextGeneration.append(path)\n",
        "    return nextGeneration"
      ],
      "execution_count": null,
      "outputs": []
    },
    {
      "cell_type": "code",
      "metadata": {
        "id": "qHcRzxHtYHK6"
      },
      "source": [
        "early_stop = collections.deque(maxlen=50)"
      ],
      "execution_count": null,
      "outputs": []
    },
    {
      "cell_type": "code",
      "metadata": {
        "id": "aFdztFRKUuRG"
      },
      "source": [
        "def geneticAlgorithm(matrix, popSize, eliteSize, mutationRate, generations):\n",
        "    pop = initialPopulation(popSize, matrix)\n",
        "    progress = []\n",
        "    progress1 = []\n",
        "    last_distance =  1 / rankRoutes(pop)[0][1]\n",
        "    min_distance = last_distance\n",
        "    early_stop.append(last_distance)\n",
        "    progress.append(last_distance)\n",
        "    best_route = pop[rankRoutes(pop)[0][0]]\n",
        "    \n",
        "    print(\"Initial distance: \" + str(1 / rankRoutes(pop)[0][1]))    \n",
        "    \n",
        "    for i in tqdm(range(0, generations)):\n",
        "      if i == 400:\n",
        "        pop = nextGeneration(pop, eliteSize, mutationRate, greedy=True)\n",
        "      else:\n",
        "        pop = nextGeneration(pop, eliteSize, mutationRate)\n",
        "\n",
        "      last_distance = 1 / rankRoutes(pop)[0][1]\n",
        "      \n",
        "      #store the best route\n",
        "      if last_distance < min_distance:\n",
        "        min_distance = last_distance\n",
        "        best_route = pop[rankRoutes(pop)[0][0]]\n",
        "\n",
        "      #early stop\n",
        "      progress1.append(abs(last_distance - min(early_stop)))\n",
        "      if abs(last_distance - max(early_stop))<0.00000001 and i > 500:\n",
        "        break\n",
        "\n",
        "      progress.append(last_distance)\n",
        "      early_stop.append(last_distance)\n",
        "\n",
        "    \n",
        "    print(\"Final distance: \" + str(min_distance))\n",
        "    return progress, best_route, min_distance, progress1, i"
      ],
      "execution_count": null,
      "outputs": []
    },
    {
      "cell_type": "code",
      "metadata": {
        "colab": {
          "base_uri": "https://localhost:8080/",
          "height": 83,
          "referenced_widgets": [
            "72898f7a60fd486b928e980dcba19e71",
            "2456d434991240a3877550dbef40a008",
            "4852fdcfef584cc581c35fe2ddb0d01e",
            "1fd2a984fe14480791715223f90d49e9",
            "6617142a8ee741d4b827010fd36000e0",
            "2713113d297a4ae1be823144b0056524",
            "a7d31ee732b14d1d97483604c255fd86",
            "a20af0c4e23b4415b82d428442f2728b"
          ]
        },
        "id": "JKnB194CU-Zv",
        "outputId": "6fe2ed44-dffc-4ba2-c8af-194a1e289f3a"
      },
      "source": [
        "progress, best_route, min_distance, progress1, num_episodes = geneticAlgorithm(population=temp, popSize=100, eliteSize=20, \n",
        "                                                                mutationRate=0.1/len(temp), generations=1000)"
      ],
      "execution_count": null,
      "outputs": [
        {
          "output_type": "stream",
          "text": [
            "Initial distance: 5496.781853963475\n"
          ],
          "name": "stdout"
        },
        {
          "output_type": "display_data",
          "data": {
            "application/vnd.jupyter.widget-view+json": {
              "model_id": "72898f7a60fd486b928e980dcba19e71",
              "version_minor": 0,
              "version_major": 2
            },
            "text/plain": [
              "HBox(children=(FloatProgress(value=0.0, max=1000.0), HTML(value='')))"
            ]
          },
          "metadata": {
            "tags": []
          }
        },
        {
          "output_type": "stream",
          "text": [
            "Final distance: 4331.564356764927\n"
          ],
          "name": "stdout"
        }
      ]
    },
    {
      "cell_type": "code",
      "metadata": {
        "id": "cCXkDaq2aeFX"
      },
      "source": [
        "def bestRoute(adjacency_matrix):\n",
        "  progress1, bestRoute1, min_distance1 = geneticAlgorithm(population=adjacency_matrix, popSize=100, eliteSize=20, \n",
        "                                                          mutationRate=0.1/len(temp), \n",
        "                                                          generations=10000)\n",
        "  progress2, bestRoute2, min_distance2 = geneticAlgorithm(population=adjacency_matrix, popSize=100, eliteSize=20, \n",
        "                                                          mutationRate=0, \n",
        "                                                          generations=1000)\n",
        "  progress3, bestRoute3, min_distance3 = geneticAlgorithm(population=adjacency_matrix, popSize=100, eliteSize=20, \n",
        "                                                          mutationRate=0.1/len(temp), \n",
        "                                                          generations=10000)\n",
        "  \n",
        "  if min_distance1 < min_distance2:\n",
        "    if min_distance1 < min_distance3:\n",
        "      return progress1, bestRoute1, min_distance1\n",
        "    else:\n",
        "      return progress3, bestRoute3, min_distance3\n",
        "  else:\n",
        "    if min_distance2 < min_distance3:\n",
        "      return progress2, bestRoute2, min_distance2\n",
        "    else:\n",
        "      return progress3, bestRoute3, min_distance3"
      ],
      "execution_count": null,
      "outputs": []
    },
    {
      "cell_type": "code",
      "metadata": {
        "id": "yLiqUX-GbxyH"
      },
      "source": [
        "# progress, bestRoute, min_distance = bestRoute(temp)"
      ],
      "execution_count": null,
      "outputs": []
    },
    {
      "cell_type": "code",
      "metadata": {
        "colab": {
          "base_uri": "https://localhost:8080/",
          "height": 279
        },
        "id": "WtXdcfA_VgMn",
        "outputId": "94a8662d-bd35-4488-bdef-dc93fb2cd119"
      },
      "source": [
        "plt.plot(progress)\n",
        "plt.ylabel('Distance')\n",
        "plt.xlabel('Generation')\n",
        "plt.show()"
      ],
      "execution_count": null,
      "outputs": [
        {
          "output_type": "display_data",
          "data": {
            "image/png": "[encoded data removed]",
            "text/plain": [
              "<Figure size 432x288 with 1 Axes>"
            ]
          },
          "metadata": {
            "tags": [],
            "needs_background": "light"
          }
        }
      ]
    },
    {
      "cell_type": "code",
      "metadata": {
        "id": "0AmcBXqRehtu"
      },
      "source": [
        ""
      ],
      "execution_count": null,
      "outputs": []
    },
    {
      "cell_type": "code",
      "metadata": {
        "id": "26WgsiZFbzE7",
        "colab": {
          "base_uri": "https://localhost:8080/"
        },
        "outputId": "1ff142f1-8878-4852-e117-74ae3b0a0e23"
      },
      "source": [
        "# Python3 program to solve  \n",
        "# Traveling Salesman Problem using  \n",
        "# Branch and Bound. \n",
        "import math \n",
        "maxsize = float('inf') \n",
        "  \n",
        "# Function to copy temporary solution \n",
        "# to the final solution \n",
        "def copyToFinal(curr_path): \n",
        "    final_path[:N + 1] = curr_path[:] \n",
        "    final_path[N] = curr_path[0] \n",
        "  \n",
        "# Function to find the minimum edge cost  \n",
        "# having an end at the vertex i \n",
        "def firstMin(adj, i): \n",
        "    min = maxsize \n",
        "    for k in range(N): \n",
        "        if adj[i][k] < min and i != k: \n",
        "            min = adj[i][k] \n",
        "  \n",
        "    return min\n",
        "  \n",
        "# function to find the second minimum edge  \n",
        "# cost having an end at the vertex i \n",
        "def secondMin(adj, i): \n",
        "    first, second = maxsize, maxsize \n",
        "    for j in range(N): \n",
        "        if i == j: \n",
        "            continue\n",
        "        if adj[i][j] <= first: \n",
        "            second = first \n",
        "            first = adj[i][j] \n",
        "  \n",
        "        elif(adj[i][j] <= second and \n",
        "             adj[i][j] != first): \n",
        "            second = adj[i][j] \n",
        "  \n",
        "    return second \n",
        "  \n",
        "# function that takes as arguments: \n",
        "# curr_bound -> lower bound of the root node \n",
        "# curr_weight-> stores the weight of the path so far \n",
        "# level-> current level while moving \n",
        "# in the search space tree \n",
        "# curr_path[] -> where the solution is being stored \n",
        "# which would later be copied to final_path[] \n",
        "def TSPRec(adj, curr_bound, curr_weight,  \n",
        "              level, curr_path, visited): \n",
        "    global final_res \n",
        "      \n",
        "    # base case is when we have reached level N  \n",
        "    # which means we have covered all the nodes once \n",
        "    if level == N: \n",
        "          \n",
        "        # check if there is an edge from \n",
        "        # last vertex in path back to the first vertex \n",
        "        if adj[curr_path[level - 1]][curr_path[0]] != 0: \n",
        "              \n",
        "            # curr_res has the total weight \n",
        "            # of the solution we got \n",
        "            curr_res = curr_weight + adj[curr_path[level - 1]][curr_path[0]] \n",
        "            if curr_res < final_res: \n",
        "                copyToFinal(curr_path) \n",
        "                final_res = curr_res \n",
        "        return\n",
        "  \n",
        "    # for any other level iterate for all vertices \n",
        "    # to build the search space tree recursively \n",
        "    for i in range(N): \n",
        "          \n",
        "        # Consider next vertex if it is not same  \n",
        "        # (diagonal entry in adjacency matrix and  \n",
        "        #  not visited already) \n",
        "        if (adj[curr_path[level-1]][i] != 0 and\n",
        "                            visited[i] == False): \n",
        "            temp = curr_bound \n",
        "            curr_weight += adj[curr_path[level - 1]][i] \n",
        "  \n",
        "            # different computation of curr_bound  \n",
        "            # for level 2 from the other levels \n",
        "            if level == 1: \n",
        "                curr_bound -= ((firstMin(adj, curr_path[level - 1]) + \n",
        "                                firstMin(adj, i)) / 2) \n",
        "            else: \n",
        "                curr_bound -= ((secondMin(adj, curr_path[level - 1]) +\n",
        "                                 firstMin(adj, i)) / 2) \n",
        "  \n",
        "            # curr_bound + curr_weight is the actual lower bound  \n",
        "            # for the node that we have arrived on. \n",
        "            # If current lower bound < final_res,  \n",
        "            # we need to explore the node further \n",
        "            if curr_bound + curr_weight < final_res: \n",
        "                curr_path[level] = i \n",
        "                visited[i] = True\n",
        "                  \n",
        "                # call TSPRec for the next level \n",
        "                TSPRec(adj, curr_bound, curr_weight,  \n",
        "                       level + 1, curr_path, visited) \n",
        "  \n",
        "            # Else we have to prune the node by resetting  \n",
        "            # all changes to curr_weight and curr_bound \n",
        "            curr_weight -= adj[curr_path[level - 1]][i] \n",
        "            curr_bound = temp \n",
        "  \n",
        "            # Also reset the visited array \n",
        "            visited = [False] * len(visited) \n",
        "            for j in range(level): \n",
        "                if curr_path[j] != -1: \n",
        "                    visited[curr_path[j]] = True\n",
        "  \n",
        "# This function sets up final_path \n",
        "def TSP(adj): \n",
        "      \n",
        "    # Calculate initial lower bound for the root node  \n",
        "    # using the formula 1/2 * (sum of first min +  \n",
        "    # second min) for all edges. Also initialize the  \n",
        "    # curr_path and visited array \n",
        "    curr_bound = 0\n",
        "    curr_path = [-1] * (N + 1) \n",
        "    visited = [False] * N \n",
        "  \n",
        "    # Compute initial bound \n",
        "    for i in range(N): \n",
        "        curr_bound += (firstMin(adj, i) + \n",
        "                       secondMin(adj, i)) \n",
        "  \n",
        "    # Rounding off the lower bound to an integer \n",
        "    curr_bound = math.ceil(curr_bound / 2) \n",
        "  \n",
        "    # We start at vertex 1 so the first vertex  \n",
        "    # in curr_path[] is 0 \n",
        "    visited[0] = True\n",
        "    curr_path[0] = 0\n",
        "  \n",
        "    # Call to TSPRec for curr_weight  \n",
        "    # equal to 0 and level 1 \n",
        "    TSPRec(adj, curr_bound, 0, 1, curr_path, visited) \n",
        "  \n",
        "# Driver code \n",
        "  \n",
        "# Adjacency matrix for the given graph \n",
        "adj = temp\n",
        "N = len(temp)\n",
        "  \n",
        "# final_path[] stores the final solution  \n",
        "# i.e. the // path of the salesman. \n",
        "final_path = [None] * (N + 1) \n",
        "  \n",
        "# visited[] keeps track of the already \n",
        "# visited nodes in a particular path \n",
        "visited = [False] * N \n",
        "  \n",
        "# Stores the final minimum weight \n",
        "# of shortest tour. \n",
        "final_res = maxsize \n",
        "  \n",
        "TSP(adj) \n",
        "  \n",
        "print(\"Minimum cost :\", final_res) \n",
        "print(\"Path Taken : \", end = ' ') \n",
        "for i in range(N + 1): \n",
        "    print(final_path[i], end = ' ') \n",
        "  \n",
        "# This code is contributed by ng24_7"
      ],
      "execution_count": null,
      "outputs": [
        {
          "output_type": "stream",
          "text": [
            "Minimum cost : 4271.358045119162\n",
            "Path Taken :  0 4 7 12 2 8 5 11 3 13 10 1 6 9 14 0 "
          ],
          "name": "stdout"
        }
      ]
    },
    {
      "cell_type": "code",
      "metadata": {
        "id": "Mb-1J57fDs69"
      },
      "source": [
        ""
      ],
      "execution_count": null,
      "outputs": []
    },
    {
      "cell_type": "code",
      "metadata": {
        "id": "8ZqPdPeFrrS8",
        "colab": {
          "base_uri": "https://localhost:8080/"
        },
        "outputId": "0cd901a6-0e9e-4e5a-86b0-fd5329ffb8bb"
      },
      "source": [
        "best_route"
      ],
      "execution_count": null,
      "outputs": [
        {
          "output_type": "execute_result",
          "data": {
            "text/plain": [
              "[2, 8, 6, 1, 10, 13, 3, 5, 11, 14, 0, 7, 4, 9, 12]"
            ]
          },
          "metadata": {
            "tags": []
          },
          "execution_count": 56
        }
      ]
    },
    {
      "cell_type": "code",
      "metadata": {
        "colab": {
          "base_uri": "https://localhost:8080/"
        },
        "id": "4CZLq-h9Bwxb",
        "outputId": "55856a13-9770-47c3-f756-dd043040d5c4"
      },
      "source": [
        "#Greedy TSP\n",
        "path = solve_tsp(temp)\n",
        "Fitness(path).routeDistance()+temp[path[-1]][path[0]]"
      ],
      "execution_count": null,
      "outputs": [
        {
          "output_type": "execute_result",
          "data": {
            "text/plain": [
              "4949.045268119521"
            ]
          },
          "metadata": {
            "tags": []
          },
          "execution_count": 51
        }
      ]
    },
    {
      "cell_type": "code",
      "metadata": {
        "colab": {
          "base_uri": "https://localhost:8080/"
        },
        "id": "_pUfkPMOB5oR",
        "outputId": "35fb976a-9c99-4339-c7ec-517f90897bfb"
      },
      "source": [
        "temp[7][2]+min_distance"
      ],
      "execution_count": null,
      "outputs": [
        {
          "output_type": "execute_result",
          "data": {
            "text/plain": [
              "4860.462648244525"
            ]
          },
          "metadata": {
            "tags": []
          },
          "execution_count": 55
        }
      ]
    },
    {
      "cell_type": "code",
      "metadata": {
        "id": "kjE6gstmCD_i"
      },
      "source": [
        ""
      ],
      "execution_count": null,
      "outputs": []
    }
  ]
}